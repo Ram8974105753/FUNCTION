{
  "nbformat": 4,
  "nbformat_minor": 0,
  "metadata": {
    "colab": {
      "provenance": []
    },
    "kernelspec": {
      "name": "python3",
      "display_name": "Python 3"
    },
    "language_info": {
      "name": "python"
    }
  },
  "cells": [
    {
      "cell_type": "markdown",
      "source": [
        "FUNCTION"
      ],
      "metadata": {
        "id": "MDcFevbws0Be"
      }
    },
    {
      "cell_type": "markdown",
      "source": [
        "1. What is the difference between a function and a method in Python?\n",
        "   - In Python, the terms function and method are closely related but have distinct meanings based on their usage and context. Here's the difference:\n",
        "\n",
        "     Function\n",
        "\n",
        "     A function is a block of reusable code that performs a specific task.\n",
        "It is defined using the def keyword and can exist independently of any class.\n",
        "Functions can take arguments and return values.\n",
        "\n",
        "     Method\n",
        "\n",
        "     A method is similar to a function but is associated with an object and is typically called on that object.\n",
        "Methods are defined within a class and operate on the instance of the class (or the class itself in the case of class methods).\n",
        "Methods usually have self (or cls for class methods) as their first parameter to refer to the instance or class they belong to.\n",
        "\n",
        "2.  Explain the concept of function arguments and parameters in Python.\n",
        "   - In Python, function arguments and parameters refer to the values and variables used in function calls and definitions. Here's an explanation of the concept and the distinction between them:\n",
        "\n",
        "\n",
        "     Parameters\n",
        "\n",
        "     Definition: Parameters are variables listed in a function's definition. They act as placeholders for the values that the function will use when called.\n",
        "     Purpose: Define the inputs a function expects.\n",
        "\n",
        "     Arguments\n",
        "\n",
        "     Definition: Arguments are the actual values or data passed to a function when it is called.\n",
        "     Purpose: Provide the specific data the function will operate on.\n",
        "\n",
        "3.  What are the different ways to define and call a function in Python?\n",
        "    - Defining and Calling a Simple Function\n",
        "Definition: Use the def keyword followed by the function name and parentheses.\n",
        "Call: Use the function name with parentheses.\n",
        "      \n",
        "      Function with Parameters\n",
        "     Definition: Specify parameters in the parentheses.\n",
        "Call: Pass arguments that match the parameters.\n",
        "\n",
        "     Function with Return Values\n",
        "Definition: Use the return keyword to send a result back to the caller.\n",
        "Call: Capture or use the return value.\n",
        "\n",
        "      Function with Default Parameters\n",
        "Definition: Assign default values to parameters.\n",
        "Call: Provide arguments for parameters only if you want to override defaults.\n",
        "\n",
        "4. What is the purpose of the `return` statement in a Python function?\n",
        "   - Provide Output: It sends a value (or multiple values) back to the caller of the function. This allows the function to produce a result that can be used elsewhere in the code.\n",
        "\n",
        "   - Terminate the Function: It ends the execution of the function. Once the return statement is executed, the function exits immediately, and any code after the return statement is not executed.\n",
        "5. What are iterators in Python and how do they differ from iterables?\n",
        "   - An iterable is any object capable of returning its members one at a time. Examples include:\n",
        "\n",
        "     Lists\n",
        "Tuples\n",
        "Strings\n",
        "Dictionaries\n",
        "Sets\n",
        "Objects that implement the __iter__() or __getitem__() methods.\n",
        "\n",
        "    Key Features of Iterables:\n",
        "An iterable can be passed to the iter() function to obtain an iterator.\n",
        "\n",
        "\n",
        "     - Iterators\n",
        "     An iterator is an object that represents a stream of data and produces items one at a time when requested. It is obtained by calling iter() on an iterable.\n",
        "\n",
        "     Key Features of Iterators:\n",
        "     Iterators implement two methods:\n",
        "     __iter__() - Returns the iterator object itself.\n",
        "     __next__() - Returns the next item from the stream. Raises StopIteration when there are no more items.\n",
        "     Iterators are stateful, meaning they remember where they are in the iteration process.\n",
        "6. Explain the concept of generators in Python and how they are defined?\n",
        "   - Generators in Python are a type of iterable, similar to lists or tuples, that allow you to produce items lazily (one at a time) instead of generating all items at once and storing them in memory. They are particularly useful for handling large datasets or infinite sequences efficiently.\n",
        "\n",
        "     Generators are defined using:\n",
        "\n",
        "     Generator Functions: Functions that use the yield keyword to produce values one at a time.\n",
        "Generator Expressions: Compact expressions that resemble list comprehensions but produce generator objects.\n",
        "7. What are the advantages of using generators over regular functions?\n",
        "   - Generators offer several advantages over regular functions, particularly when it comes to handling large datasets, memory efficiency, and certain programming scenarios. Here’s a breakdown of the key benefits:\n",
        "\n",
        "     Memory Efficiency\n",
        "Generators produce items on demand rather than generating and storing all values at once in memory.\n",
        "This is particularly useful when working with large datasets or infinite sequences, as they don’t require the entire dataset to be loaded into memory.\n",
        "  \n",
        "     Lazy Evaluation\n",
        "Generators use lazy evaluation, meaning values are generated only when needed.\n",
        "This is ideal for pipelines or scenarios where not all values are required immediately (or at all).   \n",
        "    \n",
        "     Improved Performance\n",
        "Generators avoid the overhead of building and returning large data structures (like lists), making them faster for iterative processes.\n",
        "They also reduce the time spent allocating memory for large datasets.\n",
        "     \n",
        "     Infinite Sequences\n",
        "Generators can represent infinite sequences, which is impossible with regular functions that return lists or other finite data structures.\n",
        "\n",
        "8. What is a lambda function in Python and when is it typically used?\n",
        "   - A lambda function in Python is a small, anonymous function defined using the lambda keyword. It is often referred to as a \"single-expression function\" because it can only consist of a single expression and does not require a formal def statement.\n",
        "\n",
        "     Lambda functions are typically used in situations where a small, simple function is required temporarily, often as an argument to higher-order functions. They are preferred for their brevity and ability to define functions inline.\n",
        "\n",
        "      Sorting with Custom Keys\n",
        "\n",
        "      Filtering Items\n",
        "      \n",
        "      Mapping Values\n",
        "      \n",
        "      Using with reduce\n",
        "9. Explain the purpose and usage of the `map()` function in Python?\n",
        "    - The map() function in Python is used to apply a given function to all items in an iterable (e.g., list, tuple) and return a new iterator containing the results. It is a functional programming tool that simplifies applying a transformation or computation to a collection of elements.\n",
        "\n",
        "     Applying a Function to a Single Iterable\n",
        "\n",
        "     Applying a Function to Multiple Iterables\n",
        "     \n",
        "      Using map() with Built-in Functions\n",
        "10.  What is the difference between `map()`, `reduce()`, and `filter()` functions in Python?\n",
        "    - map()\n",
        "Purpose: Applies a given function to each item in an iterable and returns an iterator containing the results.\n",
        "Key Feature: Transforms every element of an iterable.\n",
        "   - filter()\n",
        "Purpose: Filters elements of an iterable based on a function that returns True or False.\n",
        "Key Feature: Selects a subset of elements.\n",
        "\n",
        "    - reduce()\n",
        "Purpose: Applies a binary function cumulatively to the items of an iterable, reducing the iterable to a single value.\n",
        "Key Feature: Combines elements into a single output.\n",
        "\n",
        "11.  Using pen & Paper write the internal mechanism for sum operation using  reduce function on this given\n",
        "list:[47,11,42,13];\n",
        "     - Steps for reduce(lambda x, y: x + y, [47, 11, 42, 13])\n",
        "Initial Setup:\n",
        "\n",
        "The first two elements of the list, 47 and 11, are taken as the initial x and y.\n",
        "Compute: x + y = 47 + 11 = 58.\n",
        "Second Iteration:\n",
        "\n",
        "The result of the first step (58) becomes the new x, and the next element in the list (42) becomes y.\n",
        "Compute: x + y = 58 + 42 = 100.\n",
        "Third Iteration:\n",
        "\n",
        "The result of the second step (100) becomes the new x, and the next element in the list (13) becomes y.\n",
        "Compute: x + y = 100 + 13 = 113.\n",
        "End:\n",
        "\n",
        "Since there are no more elements in the list, the final result is 113\n",
        "\n",
        "\n",
        "\n",
        "\n"
      ],
      "metadata": {
        "id": "tVzJZgQ8s2YW"
      }
    },
    {
      "cell_type": "code",
      "source": [
        "#1.  Write a Python function that takes a list of numbers as input and returns the sum of all even numbers in\n",
        "the list?\n",
        "\n",
        "def sum_of_evens(numbers):\n",
        "    \"\"\"\n",
        "    Calculate the sum of all even numbers in a given list.\n",
        "\n",
        "    Args:\n",
        "        numbers (list): A list of integers.\n",
        "\n",
        "    Returns:\n",
        "        int: The sum of all even numbers in the list.\n",
        "    \"\"\"\n",
        "    return sum(num for num in numbers if num % 2 == 0)\n",
        "\n",
        "# Example usage\n",
        "numbers = [1, 2, 3, 4, 5, 6]\n",
        "result = sum_of_evens(numbers)\n",
        "print(\"Sum of even numbers:\", result)  # Output: Sum of even numbers: 12"
      ],
      "metadata": {
        "colab": {
          "base_uri": "https://localhost:8080/"
        },
        "id": "KLOrKXsg79hX",
        "outputId": "c446b2b0-ad70-400b-e528-f212b2ea189d"
      },
      "execution_count": 1,
      "outputs": [
        {
          "output_type": "stream",
          "name": "stdout",
          "text": [
            "Sum of even numbers: 12\n"
          ]
        }
      ]
    },
    {
      "cell_type": "code",
      "source": [
        "#2. Create a Python function that accepts a string and returns the reverse of that string.\n",
        "def reverse_string(s):\n",
        "    \"\"\"\n",
        "    Reverse the given string.\n",
        "\n",
        "    Args:\n",
        "        s (str): The input string.\n",
        "\n",
        "    Returns:\n",
        "        str: The reversed string.\n",
        "    \"\"\"\n",
        "    return s[::-1]\n",
        "\n",
        "# Example usage\n",
        "input_string = \"hello\"\n",
        "result = reverse_string(input_string)\n",
        "print(\"Reversed string:\", result)  # Output: \"olleh\""
      ],
      "metadata": {
        "colab": {
          "base_uri": "https://localhost:8080/"
        },
        "id": "uo5fFhug8qPP",
        "outputId": "93878daf-d0fc-493c-82fc-e1893e697163"
      },
      "execution_count": 2,
      "outputs": [
        {
          "output_type": "stream",
          "name": "stdout",
          "text": [
            "Reversed string: olleh\n"
          ]
        }
      ]
    },
    {
      "cell_type": "code",
      "source": [
        "#3.  Implement a Python function that takes a list of integers and returns a new list containing the squares of\n",
        "\n",
        "\n",
        "def square_numbers(numbers):\n",
        "    \"\"\"\n",
        "    Calculate the squares of each number in the given list.\n",
        "\n",
        "    Args:\n",
        "        numbers (list): A list of integers.\n",
        "\n",
        "    Returns:\n",
        "        list: A new list containing the squares of the input numbers.\n",
        "    \"\"\"\n",
        "    squared_numbers = []\n",
        "    for num in numbers:\n",
        "        squared_numbers.append(num ** 2)\n",
        "    return squared_numbers\n",
        "\n",
        "# Example usage\n",
        "input_list = [1, 2, 3, 4, 5]\n",
        "result = square_numbers(input_list)\n",
        "print(\"Squares:\", result)  # Output: Squares: [1, 4, 9, 16, 25]\n",
        "\n"
      ],
      "metadata": {
        "colab": {
          "base_uri": "https://localhost:8080/"
        },
        "id": "A13UkXO09IxW",
        "outputId": "fc25bb61-85ab-4f0e-ea95-bb4a525e0211"
      },
      "execution_count": 12,
      "outputs": [
        {
          "output_type": "stream",
          "name": "stdout",
          "text": [
            "Squares: [1, 4, 9, 16, 25]\n"
          ]
        }
      ]
    },
    {
      "cell_type": "code",
      "source": [
        "#4.  Write a Python function that checks if a given number is prime or not from 1 to 200\n",
        "\n",
        "def is_prime(n):\n",
        "    \"\"\"\n",
        "    Check if a number is prime.\n",
        "\n",
        "    Args:\n",
        "        n (int): The number to check.\n",
        "\n",
        "    Returns:\n",
        "        bool: True if the number is prime, False otherwise.\n",
        "    \"\"\"\n",
        "    if n <= 1:\n",
        "        return False\n",
        "    for i in range(2, int(n**0.5) + 1):\n",
        "        if n % i == 0:\n",
        "            return False\n",
        "    return True\n",
        "\n",
        "# Check numbers from 1 to 200\n",
        "primes = [num for num in range(1, 201) if is_prime(num)]\n",
        "\n",
        "print(\"Prime numbers from 1 to 200:\", primes)"
      ],
      "metadata": {
        "colab": {
          "base_uri": "https://localhost:8080/"
        },
        "id": "qJewlvJn-be9",
        "outputId": "7d11a5cc-f7e5-4493-bcc1-b2daf3197595"
      },
      "execution_count": 8,
      "outputs": [
        {
          "output_type": "stream",
          "name": "stdout",
          "text": [
            "Prime numbers from 1 to 200: [2, 3, 5, 7, 11, 13, 17, 19, 23, 29, 31, 37, 41, 43, 47, 53, 59, 61, 67, 71, 73, 79, 83, 89, 97, 101, 103, 107, 109, 113, 127, 131, 137, 139, 149, 151, 157, 163, 167, 173, 179, 181, 191, 193, 197, 199]\n"
          ]
        }
      ]
    },
    {
      "cell_type": "code",
      "source": [
        "#5.  Create an iterator class in Python that generates the Fibonacci sequence up to a specified number of\n",
        "\n",
        "class FibonacciIterator:\n",
        "    def __init__(self, terms):\n",
        "        \"\"\"\n",
        "        Initialize the Fibonacci iterator.\n",
        "\n",
        "        Args:\n",
        "            terms (int): The number of terms to generate in the Fibonacci sequence.\n",
        "        \"\"\"\n",
        "        self.terms = terms\n",
        "        self.current = 0\n",
        "        self.previous = 0\n",
        "        self.next = 1\n",
        "        self.count = 0\n",
        "\n",
        "    def __iter__(self):\n",
        "        # The iterator object itself\n",
        "        return self\n",
        "\n",
        "    def __next__(self):\n",
        "        # Stop iteration after generating the specified number of terms\n",
        "        if self.count >= self.terms:\n",
        "            raise StopIteration\n",
        "        # Handle the first term (0)\n",
        "        if self.count == 0:\n",
        "            self.count += 1\n",
        "            return 0\n",
        "        # Handle the second term (1)\n",
        "        elif self.count == 1:\n",
        "            self.count += 1\n",
        "            return 1\n",
        "        # Generate the next Fibonacci number\n",
        "        current_value = self.previous + self.next\n",
        "        self.previous = self.next\n",
        "        self.next = current_value\n",
        "        self.count += 1\n",
        "        return current_value\n",
        "\n",
        "# Example usage: Generate first 10 Fibonacci numbers\n",
        "fib_iterator = FibonacciIterator(10)\n",
        "for num in fib_iterator:\n",
        "    print(num)\n"
      ],
      "metadata": {
        "colab": {
          "base_uri": "https://localhost:8080/"
        },
        "id": "9aXX8VT--mYM",
        "outputId": "ff41481e-16fd-40bd-e6c3-bc2750175de1"
      },
      "execution_count": 11,
      "outputs": [
        {
          "output_type": "stream",
          "name": "stdout",
          "text": [
            "0\n",
            "1\n",
            "1\n",
            "2\n",
            "3\n",
            "5\n",
            "8\n",
            "13\n",
            "21\n",
            "34\n"
          ]
        }
      ]
    },
    {
      "cell_type": "code",
      "source": [
        "#8. Use a lambda function in Python to sort a list of tuples based on the second element of each tuple.\n",
        "# List of tuples\n",
        "tuples = [(1, 4), (2, 3), (3, 2), (4, 1)]\n",
        "\n",
        "# Sort the list of tuples based on the second element of each tuple using a lambda function\n",
        "sorted_tuples = sorted(tuples, key=lambda x: x[1])\n",
        "\n",
        "# Print the sorted list\n",
        "print(sorted_tuples)"
      ],
      "metadata": {
        "colab": {
          "base_uri": "https://localhost:8080/"
        },
        "id": "x-tRwiEvADYt",
        "outputId": "556f4c90-2a52-466e-e232-3735537e8a99"
      },
      "execution_count": 18,
      "outputs": [
        {
          "output_type": "stream",
          "name": "stdout",
          "text": [
            "[(4, 1), (3, 2), (2, 3), (1, 4)]\n"
          ]
        }
      ]
    },
    {
      "cell_type": "code",
      "source": [
        "#10. Create a Python program that uses `filter()` to remove all the vowels from a given string.\n",
        "\n",
        "def remove_vowels(s):\n",
        "    \"\"\"\n",
        "    Remove all vowels (a, e, i, o, u) from the given string.\n",
        "\n",
        "    Args:\n",
        "        s (str): The input string.\n",
        "\n",
        "    Returns:\n",
        "        str: The string with all vowels removed.\n",
        "    \"\"\"\n",
        "    vowels = 'aeiouAEIOU'\n",
        "    # Use filter to remove vowels\n",
        "    result = filter(lambda x: x not in vowels, s)\n",
        "    # Join the filtered characters back into a string\n",
        "    return ''.join(result)\n"
      ],
      "metadata": {
        "id": "PyEWdnfIA0LV"
      },
      "execution_count": 26,
      "outputs": []
    },
    {
      "cell_type": "code",
      "source": [
        "#13. Write a Python program using lambda and map.\n",
        "\n",
        "# List of numbers\n",
        "numbers = [1, 2, 3, 4, 5]\n",
        "\n",
        "# Use map() with lambda to square each number in the list\n",
        "squared_numbers = map(lambda x: x ** 2, numbers)\n",
        "\n",
        "# Convert the result to a list and print it\n",
        "squared_numbers_list = list(squared_numbers)\n",
        "print(\"Squared numbers:\", squared_numbers_list)"
      ],
      "metadata": {
        "colab": {
          "base_uri": "https://localhost:8080/"
        },
        "id": "kjUXMiUUDBZt",
        "outputId": "9b3820e9-92f8-46c4-a38e-f2d3ceb29a58"
      },
      "execution_count": 30,
      "outputs": [
        {
          "output_type": "stream",
          "name": "stdout",
          "text": [
            "Squared numbers: [1, 4, 9, 16, 25]\n"
          ]
        }
      ]
    }
  ]
}